{
 "cells": [
  {
   "cell_type": "code",
   "execution_count": 1,
   "id": "8672079b-3782-4fe0-8d50-aba0bde4a3c7",
   "metadata": {},
   "outputs": [],
   "source": [
    "#Importing Libraries\n",
    "from functools import reduce\n",
    "import matplotlib.pyplot as plt\n",
    "import numpy as np"
   ]
  },
  {
   "cell_type": "code",
   "execution_count": 2,
   "id": "27047025-2750-4bee-800c-04afedc96f5f",
   "metadata": {},
   "outputs": [],
   "source": [
    "#Calculates and returns the slope and y-intercept for the regression model\n",
    "def eqn(x, y):\n",
    "    n = len(x)\n",
    "    x_y = x*y\n",
    "    x_sq = x**2\n",
    "    sum_xy = np.sum(x_y)\n",
    "    sum_x = np.sum(x)\n",
    "    sum_y = np.sum(y)\n",
    "    sum_x_sq = np.sum(x_sq)\n",
    "    m = (n*sum_xy - (sum_x*sum_y))/(n*sum_x_sq-(sum_x**2))\n",
    "    b = (sum_y-m*(sum_x))/n\n",
    "    return m ,b"
   ]
  },
  {
   "cell_type": "code",
   "execution_count": 3,
   "id": "44e9aa4a-322f-4f6f-afc4-533b0a6899bc",
   "metadata": {},
   "outputs": [],
   "source": [
    "#Plotting the best-fit line and a scatter plot from the data given\n",
    "def graph(x , y):\n",
    "    m ,b = eqn(x, y)\n",
    "    y_n = list(map(lambda x: m*x+b, x))\n",
    "    plt.plot(x,y_n, color=\"skyblue\", marker=\"o\", linestyle=\"--\", label=\"bestfit line\")\n",
    "    plt.scatter(x,y , color=\"red\", label=\"original data-set\")\n",
    "    plt.xlabel(\"X \")\n",
    "    plt.ylabel(\"F(X)\")\n",
    "    plt.title(\"Linear Regression Model\")\n",
    "    #plt.style.use('dark_background')\n",
    "    ax = plt.gca()\n",
    "    ax.set_facecolor(\"black\")\n",
    "    plt.legend()\n",
    "    plt.tight_layout()\n",
    "    plt.show()"
   ]
  },
  {
   "cell_type": "code",
   "execution_count": null,
   "id": "cb27d078-1cab-405c-8b72-876becc185d8",
   "metadata": {},
   "outputs": [
    {
     "name": "stdin",
     "output_type": "stream",
     "text": [
      " 1 7 8 15 19\n"
     ]
    }
   ],
   "source": [
    "#User input\n",
    "try:\n",
    "    x = np.array(list(map(float, input().split())))\n",
    "    y = np.array(list(map(float, input().split())))\n",
    "    graph(x, y)\n",
    "except ValueError as e:\n",
    "    print(e,\"Please Enter Valid numbers\")"
   ]
  },
  {
   "cell_type": "code",
   "execution_count": 2,
   "id": "6ad5bcd1-6b65-4c59-8205-bba084845f75",
   "metadata": {},
   "outputs": [],
   "source": []
  },
  {
   "cell_type": "code",
   "execution_count": null,
   "id": "13af0c57-7a98-4ce4-996b-e8805108ee38",
   "metadata": {},
   "outputs": [],
   "source": []
  },
  {
   "cell_type": "code",
   "execution_count": null,
   "id": "59955422-dac7-4416-8be1-562f0f74167c",
   "metadata": {},
   "outputs": [],
   "source": []
  }
 ],
 "metadata": {
  "kernelspec": {
   "display_name": "Python [conda env:base] *",
   "language": "python",
   "name": "conda-base-py"
  },
  "language_info": {
   "codemirror_mode": {
    "name": "ipython",
    "version": 3
   },
   "file_extension": ".py",
   "mimetype": "text/x-python",
   "name": "python",
   "nbconvert_exporter": "python",
   "pygments_lexer": "ipython3",
   "version": "3.12.7"
  }
 },
 "nbformat": 4,
 "nbformat_minor": 5
}
